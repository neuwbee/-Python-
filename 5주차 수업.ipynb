{
  "cells": [
    {
      "cell_type": "markdown",
      "metadata": {
        "id": "view-in-github",
        "colab_type": "text"
      },
      "source": [
        "<a href=\"https://colab.research.google.com/github/neuwbee/-Python-/blob/main/5%EC%A3%BC%EC%B0%A8%20%EC%88%98%EC%97%85.ipynb\" target=\"_parent\"><img src=\"https://colab.research.google.com/assets/colab-badge.svg\" alt=\"Open In Colab\"/></a>"
      ]
    },
    {
      "cell_type": "code",
      "execution_count": 1,
      "metadata": {
        "id": "zwFnJsE6vjf8",
        "outputId": "890a4b82-7e4b-4c3c-ebfb-be758d99ac66",
        "colab": {
          "base_uri": "https://localhost:8080/"
        }
      },
      "outputs": [
        {
          "output_type": "stream",
          "name": "stdout",
          "text": [
            "1\n",
            "1\n",
            "2\n",
            "3\n",
            "3\n"
          ]
        }
      ],
      "source": [
        "for x in [1,2,3]:\n",
        "  print(x)\n",
        "  if x==2:\n",
        "    continue\n",
        "  print(x)"
      ]
    },
    {
      "cell_type": "code",
      "source": [
        "\"\"\"\n",
        "while <조건문>:\n",
        "  while<조건문>:\n",
        "    continue\n",
        "    -2번 조건문으로 돌아감\n",
        "시험문제임\n",
        "\"\"\""
      ],
      "metadata": {
        "id": "P1Kh89Ib9wEX",
        "outputId": "c8a553d2-faa4-4b34-89c8-e01f77d2b253",
        "colab": {
          "base_uri": "https://localhost:8080/",
          "height": 35
        }
      },
      "execution_count": 2,
      "outputs": [
        {
          "output_type": "execute_result",
          "data": {
            "text/plain": [
              "'\\nwhile <조건문>:\\n  while<조건문>:\\n    continue \\n    -2번 조건문으로 돌아감\\n시험문제임\\n'"
            ],
            "application/vnd.google.colaboratory.intrinsic+json": {
              "type": "string"
            }
          },
          "metadata": {},
          "execution_count": 2
        }
      ]
    },
    {
      "cell_type": "code",
      "source": [
        "dict_2 = {'이름':'김철수', '나이':26, '학위과정':'학사', '졸업여부':True}"
      ],
      "metadata": {
        "id": "-mTUKyYN-_zb"
      },
      "execution_count": 3,
      "outputs": []
    },
    {
      "cell_type": "code",
      "source": [
        "dict_2"
      ],
      "metadata": {
        "id": "OAlKhcQ4AIXC",
        "outputId": "8c450fa3-773d-4c45-b324-ed8e23190c4d",
        "colab": {
          "base_uri": "https://localhost:8080/"
        }
      },
      "execution_count": 4,
      "outputs": [
        {
          "output_type": "execute_result",
          "data": {
            "text/plain": [
              "{'이름': '김철수', '나이': 26, '학위과정': '학사', '졸업여부': True}"
            ]
          },
          "metadata": {},
          "execution_count": 4
        }
      ]
    },
    {
      "cell_type": "code",
      "source": [
        "g = dict( alice = 5, bob = 20, tony= 15, suzy = 30)"
      ],
      "metadata": {
        "id": "obKUvwtCAMcI"
      },
      "execution_count": 5,
      "outputs": []
    },
    {
      "cell_type": "code",
      "source": [
        "g['mike']=10"
      ],
      "metadata": {
        "id": "bV8frpNoBpyA"
      },
      "execution_count": 9,
      "outputs": []
    },
    {
      "cell_type": "code",
      "source": [
        "g"
      ],
      "metadata": {
        "id": "eeSzipbBBv3A",
        "outputId": "73dc1278-388f-4941-e82a-25e589db7eb2",
        "colab": {
          "base_uri": "https://localhost:8080/"
        }
      },
      "execution_count": 10,
      "outputs": [
        {
          "output_type": "execute_result",
          "data": {
            "text/plain": [
              "{'alice': 5, 'bob': 20, 'tony': 15, 'suzy': 30, 'mike': 10}"
            ]
          },
          "metadata": {},
          "execution_count": 10
        }
      ]
    },
    {
      "cell_type": "code",
      "source": [
        "g['john']=''"
      ],
      "metadata": {
        "id": "pRPj3POzB1Hp"
      },
      "execution_count": 11,
      "outputs": []
    },
    {
      "cell_type": "code",
      "source": [
        "g"
      ],
      "metadata": {
        "id": "3M3JOXC4B-Uh",
        "outputId": "f247fe37-9693-4aab-afe0-f7b3581ee5b4",
        "colab": {
          "base_uri": "https://localhost:8080/"
        }
      },
      "execution_count": 12,
      "outputs": [
        {
          "output_type": "execute_result",
          "data": {
            "text/plain": [
              "{'alice': 5, 'bob': 20, 'tony': 15, 'suzy': 30, 'mike': 10, 'john': ''}"
            ]
          },
          "metadata": {},
          "execution_count": 12
        }
      ]
    },
    {
      "cell_type": "code",
      "source": [
        "del g['john']"
      ],
      "metadata": {
        "id": "t37xiQzqB_Ax"
      },
      "execution_count": 13,
      "outputs": []
    },
    {
      "cell_type": "code",
      "source": [
        "g"
      ],
      "metadata": {
        "id": "s4u9SihCCERQ",
        "outputId": "1cfbab00-c2fe-4878-9a27-f7a96cc6bffb",
        "colab": {
          "base_uri": "https://localhost:8080/"
        }
      },
      "execution_count": 14,
      "outputs": [
        {
          "output_type": "execute_result",
          "data": {
            "text/plain": [
              "{'alice': 5, 'bob': 20, 'tony': 15, 'suzy': 30, 'mike': 10}"
            ]
          },
          "metadata": {},
          "execution_count": 14
        }
      ]
    },
    {
      "cell_type": "code",
      "source": [
        "g.pop('mike')"
      ],
      "metadata": {
        "id": "RhgE4qwcCGU5",
        "outputId": "3b68c8b1-6cbb-488b-e69e-cf4dab371f5b",
        "colab": {
          "base_uri": "https://localhost:8080/"
        }
      },
      "execution_count": 15,
      "outputs": [
        {
          "output_type": "execute_result",
          "data": {
            "text/plain": [
              "10"
            ]
          },
          "metadata": {},
          "execution_count": 15
        }
      ]
    },
    {
      "cell_type": "code",
      "source": [
        "g"
      ],
      "metadata": {
        "id": "3O1IYBmxCGxL",
        "outputId": "990fe5bc-6300-4c0d-abf3-b6db0ed50be0",
        "colab": {
          "base_uri": "https://localhost:8080/"
        }
      },
      "execution_count": 16,
      "outputs": [
        {
          "output_type": "execute_result",
          "data": {
            "text/plain": [
              "{'alice': 5, 'bob': 20, 'tony': 15, 'suzy': 30}"
            ]
          },
          "metadata": {},
          "execution_count": 16
        }
      ]
    },
    {
      "cell_type": "code",
      "source": [
        "g['bob']"
      ],
      "metadata": {
        "id": "VeJDZJv6CxrB",
        "outputId": "9b9d1a85-4df6-4751-a09b-55152530aa70",
        "colab": {
          "base_uri": "https://localhost:8080/"
        }
      },
      "execution_count": 17,
      "outputs": [
        {
          "output_type": "execute_result",
          "data": {
            "text/plain": [
              "20"
            ]
          },
          "metadata": {},
          "execution_count": 17
        }
      ]
    },
    {
      "cell_type": "code",
      "source": [
        "g.get('bob')"
      ],
      "metadata": {
        "id": "OzQKl3usDa6h",
        "outputId": "79bef638-2817-4f32-ee1e-1a7f01d8c177",
        "colab": {
          "base_uri": "https://localhost:8080/"
        }
      },
      "execution_count": 18,
      "outputs": [
        {
          "output_type": "execute_result",
          "data": {
            "text/plain": [
              "20"
            ]
          },
          "metadata": {},
          "execution_count": 18
        }
      ]
    },
    {
      "cell_type": "code",
      "source": [
        "print(g.get('mike'))"
      ],
      "metadata": {
        "id": "-4JMadjqEAux",
        "outputId": "8879eabf-43eb-4521-bd38-afcf829ad00e",
        "colab": {
          "base_uri": "https://localhost:8080/"
        }
      },
      "execution_count": 21,
      "outputs": [
        {
          "output_type": "stream",
          "name": "stdout",
          "text": [
            "None\n"
          ]
        }
      ]
    },
    {
      "cell_type": "code",
      "source": [
        "list(g.keys())"
      ],
      "metadata": {
        "id": "vINr3U4CED6x",
        "outputId": "9ef0bf77-1bef-463e-fd6d-db96ef1a8897",
        "colab": {
          "base_uri": "https://localhost:8080/"
        }
      },
      "execution_count": 22,
      "outputs": [
        {
          "output_type": "execute_result",
          "data": {
            "text/plain": [
              "['alice', 'bob', 'tony', 'suzy']"
            ]
          },
          "metadata": {},
          "execution_count": 22
        }
      ]
    },
    {
      "cell_type": "code",
      "source": [
        "g.values()"
      ],
      "metadata": {
        "id": "yw4ia8j2Gn7y",
        "outputId": "d69a859c-f51c-4f45-f5b9-5ccd77b77181",
        "colab": {
          "base_uri": "https://localhost:8080/"
        }
      },
      "execution_count": 24,
      "outputs": [
        {
          "output_type": "execute_result",
          "data": {
            "text/plain": [
              "dict_values([5, 20, 15, 30])"
            ]
          },
          "metadata": {},
          "execution_count": 24
        }
      ]
    },
    {
      "cell_type": "code",
      "source": [
        "list(g.values())"
      ],
      "metadata": {
        "id": "X1Wkjya2GsKC",
        "outputId": "8968fbb1-f984-493f-c7eb-91e06e77fac9",
        "colab": {
          "base_uri": "https://localhost:8080/"
        }
      },
      "execution_count": 25,
      "outputs": [
        {
          "output_type": "execute_result",
          "data": {
            "text/plain": [
              "[5, 20, 15, 30]"
            ]
          },
          "metadata": {},
          "execution_count": 25
        }
      ]
    },
    {
      "cell_type": "code",
      "source": [
        "print(g)"
      ],
      "metadata": {
        "id": "mANpDfJfG0eh",
        "outputId": "8f269aa8-72fe-43c8-fd37-81cd8d9af0dd",
        "colab": {
          "base_uri": "https://localhost:8080/"
        }
      },
      "execution_count": 26,
      "outputs": [
        {
          "output_type": "stream",
          "name": "stdout",
          "text": [
            "{'alice': 5, 'bob': 20, 'tony': 15, 'suzy': 30}\n"
          ]
        }
      ]
    },
    {
      "cell_type": "code",
      "source": [
        "g.items()"
      ],
      "metadata": {
        "id": "Ksf4eutyG6w5",
        "outputId": "aa39468f-5eda-43eb-b0ba-d67be24e0b2b",
        "colab": {
          "base_uri": "https://localhost:8080/"
        }
      },
      "execution_count": 27,
      "outputs": [
        {
          "output_type": "execute_result",
          "data": {
            "text/plain": [
              "dict_items([('alice', 5), ('bob', 20), ('tony', 15), ('suzy', 30)])"
            ]
          },
          "metadata": {},
          "execution_count": 27
        }
      ]
    },
    {
      "cell_type": "code",
      "source": [
        "list(g.items())"
      ],
      "metadata": {
        "id": "viuGt9KZG8xa",
        "outputId": "0a42d0d3-45c8-4fcf-9638-1bddb07fa311",
        "colab": {
          "base_uri": "https://localhost:8080/"
        }
      },
      "execution_count": 28,
      "outputs": [
        {
          "output_type": "execute_result",
          "data": {
            "text/plain": [
              "[('alice', 5), ('bob', 20), ('tony', 15), ('suzy', 30)]"
            ]
          },
          "metadata": {},
          "execution_count": 28
        }
      ]
    },
    {
      "cell_type": "code",
      "source": [
        "item_list = list(g.items())"
      ],
      "metadata": {
        "id": "Hjhd78VDHAFi"
      },
      "execution_count": 29,
      "outputs": []
    },
    {
      "cell_type": "code",
      "source": [
        "type(item_list[0])"
      ],
      "metadata": {
        "id": "zc8U_F7WHNFi",
        "outputId": "9153aace-ecff-4fab-c06e-94cea164ebf8",
        "colab": {
          "base_uri": "https://localhost:8080/"
        }
      },
      "execution_count": 30,
      "outputs": [
        {
          "output_type": "execute_result",
          "data": {
            "text/plain": [
              "tuple"
            ]
          },
          "metadata": {},
          "execution_count": 30
        }
      ]
    },
    {
      "cell_type": "code",
      "source": [
        "a = [1,2,3,4,5]"
      ],
      "metadata": {
        "id": "mvmvnQdPHS5J"
      },
      "execution_count": 31,
      "outputs": []
    },
    {
      "cell_type": "code",
      "source": [
        "4 in a"
      ],
      "metadata": {
        "id": "HL_6uaCGHjEC",
        "outputId": "2476e18c-9796-49a9-af66-411fd1395c22",
        "colab": {
          "base_uri": "https://localhost:8080/"
        }
      },
      "execution_count": 32,
      "outputs": [
        {
          "output_type": "execute_result",
          "data": {
            "text/plain": [
              "True"
            ]
          },
          "metadata": {},
          "execution_count": 32
        }
      ]
    },
    {
      "cell_type": "code",
      "source": [
        "'alice' in g"
      ],
      "metadata": {
        "id": "2t4-g6b_Hkg6",
        "outputId": "62604c31-bcf7-4b2e-eb72-b335b94e9954",
        "colab": {
          "base_uri": "https://localhost:8080/"
        }
      },
      "execution_count": 33,
      "outputs": [
        {
          "output_type": "execute_result",
          "data": {
            "text/plain": [
              "True"
            ]
          },
          "metadata": {},
          "execution_count": 33
        }
      ]
    },
    {
      "cell_type": "code",
      "source": [
        "'john' in g"
      ],
      "metadata": {
        "id": "xc9rNvmHHqva",
        "outputId": "995e3453-0394-438b-d584-f45938fa830f",
        "colab": {
          "base_uri": "https://localhost:8080/"
        }
      },
      "execution_count": 34,
      "outputs": [
        {
          "output_type": "execute_result",
          "data": {
            "text/plain": [
              "False"
            ]
          },
          "metadata": {},
          "execution_count": 34
        }
      ]
    },
    {
      "cell_type": "code",
      "source": [
        "for each_name in g.keys():\n",
        "  print(each_name)"
      ],
      "metadata": {
        "id": "Og-BeHz1Ht6T",
        "outputId": "69450849-7ba4-4b8c-9a0e-67b1b4e8c7a5",
        "colab": {
          "base_uri": "https://localhost:8080/"
        }
      },
      "execution_count": 39,
      "outputs": [
        {
          "output_type": "stream",
          "name": "stdout",
          "text": [
            "alice\n",
            "bob\n",
            "tony\n",
            "suzy\n"
          ]
        }
      ]
    },
    {
      "cell_type": "code",
      "source": [
        "for key, value in g.items():\n",
        "  print(key, ':', value)"
      ],
      "metadata": {
        "id": "eOmnO9cHIAc5",
        "outputId": "ec3b9c27-4934-49e7-9ac3-7eb4d6e070ef",
        "colab": {
          "base_uri": "https://localhost:8080/"
        }
      },
      "execution_count": 41,
      "outputs": [
        {
          "output_type": "stream",
          "name": "stdout",
          "text": [
            "alice : 5\n",
            "bob : 20\n",
            "tony : 15\n",
            "suzy : 30\n"
          ]
        }
      ]
    },
    {
      "cell_type": "code",
      "source": [],
      "metadata": {
        "id": "QnuVUP2NIs5N"
      },
      "execution_count": null,
      "outputs": []
    },
    {
      "cell_type": "code",
      "source": [
        "# 1. 유럽대륙의 국가 3개, 아시아3개, 아메리카대륙 3개\n",
        "# 나라의 수도 정보를 포함하고 있는 dictionary를 만들어라.\n",
        "country = {'영국':'런던', '프랑스':'파리', '스위스':'베른', '대한민국':'서울', '일본':'도쿄', '중국':'베이징', '아르헨티나':'부에노스아이레스', '브라질':'상파울루', '파라과이':'아순시온'}"
      ],
      "metadata": {
        "id": "ZowB9aPkIa5C"
      },
      "execution_count": 48,
      "outputs": []
    },
    {
      "cell_type": "code",
      "source": [
        "country"
      ],
      "metadata": {
        "id": "At4cdKEqJj8r",
        "outputId": "d1dd7c38-b887-41b9-c9e2-e48c5dff2d58",
        "colab": {
          "base_uri": "https://localhost:8080/"
        }
      },
      "execution_count": 49,
      "outputs": [
        {
          "output_type": "execute_result",
          "data": {
            "text/plain": [
              "{'영국': '런던',\n",
              " '프랑스': '파리',\n",
              " '스위스': '베른',\n",
              " '대한민국': '서울',\n",
              " '일본': '도쿄',\n",
              " '중국': '베이징',\n",
              " '아르헨티나': '부에노스아이레스',\n",
              " '브라질': '상파울루',\n",
              " '파라과이': '아순시온'}"
            ]
          },
          "metadata": {},
          "execution_count": 49
        }
      ]
    },
    {
      "cell_type": "code",
      "source": [
        "for k, v in country.items():\n",
        "  print(k, ':', v)"
      ],
      "metadata": {
        "id": "tfulZtvoJ1N6",
        "outputId": "ad910b07-65f0-475e-88c3-84f1484c6487",
        "colab": {
          "base_uri": "https://localhost:8080/"
        }
      },
      "execution_count": 52,
      "outputs": [
        {
          "output_type": "stream",
          "name": "stdout",
          "text": [
            "영국 : 런던\n",
            "프랑스 : 파리\n",
            "스위스 : 베른\n",
            "대한민국 : 서울\n",
            "일본 : 도쿄\n",
            "중국 : 베이징\n",
            "아르헨티나 : 부에노스아이레스\n",
            "브라질 : 상파울루\n",
            "파라과이 : 아순시온\n"
          ]
        }
      ]
    },
    {
      "cell_type": "code",
      "source": [
        "print(list(country.keys()))\n"
      ],
      "metadata": {
        "id": "rWjQDbxSMNhz",
        "outputId": "99e39491-d1fe-4710-b650-8d9ad4552c1b",
        "colab": {
          "base_uri": "https://localhost:8080/"
        }
      },
      "execution_count": 69,
      "outputs": [
        {
          "output_type": "stream",
          "name": "stdout",
          "text": [
            "['영국', '프랑스', '스위스', '대한민국', '일본', '중국', '아르헨티나', '브라질', '파라과이']\n"
          ]
        }
      ]
    },
    {
      "cell_type": "code",
      "source": [
        "print(country['대한민국'])\n",
        "print(country['일본'])\n",
        "print(country['중국'])"
      ],
      "metadata": {
        "id": "1R6un2vBMeKy",
        "outputId": "85703347-d42f-4f0e-d375-ba10d4e4c1e8",
        "colab": {
          "base_uri": "https://localhost:8080/"
        }
      },
      "execution_count": 70,
      "outputs": [
        {
          "output_type": "stream",
          "name": "stdout",
          "text": [
            "서울\n",
            "도쿄\n",
            "베이징\n"
          ]
        }
      ]
    },
    {
      "cell_type": "code",
      "source": [
        "del country['일본']\n",
        "del country['아르헨티나']\n",
        "del country['브라질']"
      ],
      "metadata": {
        "id": "KdnWbN2tOJuT"
      },
      "execution_count": 71,
      "outputs": []
    },
    {
      "cell_type": "code",
      "source": [
        "country"
      ],
      "metadata": {
        "id": "r98Xx3ppOVZz",
        "outputId": "8aba36aa-51bc-4bc1-a2a9-22ad7e5dd205",
        "colab": {
          "base_uri": "https://localhost:8080/"
        }
      },
      "execution_count": 72,
      "outputs": [
        {
          "output_type": "execute_result",
          "data": {
            "text/plain": [
              "{'영국': '런던',\n",
              " '프랑스': '파리',\n",
              " '스위스': '베른',\n",
              " '대한민국': '서울',\n",
              " '중국': '베이징',\n",
              " '파라과이': '아순시온'}"
            ]
          },
          "metadata": {},
          "execution_count": 72
        }
      ]
    },
    {
      "cell_type": "code",
      "source": [
        "country['스페인']='마드리드'\n",
        "country['베트남']='하노이'\n",
        "country['미국']='워싱턴'"
      ],
      "metadata": {
        "id": "9y1QRSTFOYGD"
      },
      "execution_count": 74,
      "outputs": []
    },
    {
      "cell_type": "code",
      "source": [
        "country"
      ],
      "metadata": {
        "id": "kZydQM3KOsgj",
        "outputId": "a963727e-5436-49cf-a048-7e70be5ccb4b",
        "colab": {
          "base_uri": "https://localhost:8080/"
        }
      },
      "execution_count": 75,
      "outputs": [
        {
          "output_type": "execute_result",
          "data": {
            "text/plain": [
              "{'영국': '런던',\n",
              " '프랑스': '파리',\n",
              " '스위스': '베른',\n",
              " '대한민국': '서울',\n",
              " '중국': '베이징',\n",
              " '파라과이': '아순시온',\n",
              " '스페인': '마드리드',\n",
              " '베트남': '하노이',\n",
              " '미국': '워싱턴'}"
            ]
          },
          "metadata": {},
          "execution_count": 75
        }
      ]
    },
    {
      "cell_type": "code",
      "source": [
        "#<연습 문제 5-1>\n",
        "#Given code\n",
        "\n",
        "inventory = {\n",
        "    'gold' : 500,\n",
        "    'pouch' : ['flint', 'twine', 'gemstone'],\n",
        "    'backpack' : ['xylophone', 'dagger', 'bedroll', 'bread loaf']\n",
        "}\n",
        "\n",
        "inventory['burlap bag'] = ['apple', 'small ruby', 'three-toed sloth']\n",
        "inventory['pouch'].sort()\n"
      ],
      "metadata": {
        "id": "8urTRPCuO8bL"
      },
      "execution_count": 77,
      "outputs": []
    },
    {
      "cell_type": "code",
      "source": [
        "inventory['pocket'] = ''"
      ],
      "metadata": {
        "id": "cny-RD3qPmac"
      },
      "execution_count": 78,
      "outputs": []
    },
    {
      "cell_type": "code",
      "source": [
        "inventory['pocket'] = [\"seashell\", \"strange berry\", \"lint\"]"
      ],
      "metadata": {
        "id": "WNJxBJfJP0gk"
      },
      "execution_count": 80,
      "outputs": []
    },
    {
      "cell_type": "code",
      "source": [
        "inventory['backpack'].sort(reverse=True)"
      ],
      "metadata": {
        "id": "NVm056KkQNls"
      },
      "execution_count": 82,
      "outputs": []
    },
    {
      "cell_type": "code",
      "source": [
        "print(inventory)"
      ],
      "metadata": {
        "id": "h6x_4ZpDQgCE",
        "outputId": "68731680-d2ad-4e5e-e531-32f8185ba744",
        "colab": {
          "base_uri": "https://localhost:8080/"
        }
      },
      "execution_count": 83,
      "outputs": [
        {
          "output_type": "stream",
          "name": "stdout",
          "text": [
            "{'gold': 500, 'pouch': ['flint', 'gemstone', 'twine'], 'backpack': ['xylophone', 'dagger', 'bread loaf', 'bedroll'], 'burlap bag': ['apple', 'small ruby', 'three-toed sloth'], 'pocket': ['seashell', 'strange berry', 'lint']}\n"
          ]
        }
      ]
    },
    {
      "cell_type": "code",
      "source": [
        "current_gold = inventory['gold']"
      ],
      "metadata": {
        "id": "aAXHLrR4QqEM"
      },
      "execution_count": 85,
      "outputs": []
    },
    {
      "cell_type": "code",
      "source": [
        "inventory['gold']=current_gold+50"
      ],
      "metadata": {
        "id": "pSUWyHr3Q2Y0"
      },
      "execution_count": 86,
      "outputs": []
    },
    {
      "cell_type": "code",
      "source": [],
      "metadata": {
        "id": "Qz_ZEMheRLr0"
      },
      "execution_count": null,
      "outputs": []
    }
  ],
  "metadata": {
    "colab": {
      "name": "Colaboratory에 오신 것을 환영합니다",
      "provenance": [],
      "include_colab_link": true
    },
    "kernelspec": {
      "display_name": "Python 3",
      "name": "python3"
    }
  },
  "nbformat": 4,
  "nbformat_minor": 0
}